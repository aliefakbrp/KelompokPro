{
 "cells": [
  {
   "cell_type": "code",
   "execution_count": 2,
   "metadata": {},
   "outputs": [
    {
     "name": "stdout",
     "output_type": "stream",
     "text": [
      "Package                      Version             \n",
      "---------------------------- --------------------\n",
      "absl-py                      1.4.0               \n",
      "asttokens                    2.2.1               \n",
      "astunparse                   1.6.3               \n",
      "attrs                        19.3.0              \n",
      "Automat                      0.8.0               \n",
      "Babel                        2.6.0               \n",
      "backcall                     0.2.0               \n",
      "blinker                      1.4                 \n",
      "cachetools                   5.3.1               \n",
      "certifi                      2019.11.28          \n",
      "chardet                      3.0.4               \n",
      "Click                        7.0                 \n",
      "cloud-init                   22.3.4              \n",
      "colorama                     0.4.3               \n",
      "comm                         0.1.3               \n",
      "command-not-found            0.3                 \n",
      "configobj                    5.0.6               \n",
      "constantly                   15.1.0              \n",
      "contourpy                    1.0.7               \n",
      "cryptography                 2.8                 \n",
      "cupshelpers                  1.0                 \n",
      "cycler                       0.11.0              \n",
      "dbus-python                  1.2.16              \n",
      "debtcollector                2.0.0               \n",
      "debugpy                      1.6.7               \n",
      "decorator                    5.1.1               \n",
      "defer                        1.0.6               \n",
      "distro                       1.4.0               \n",
      "distro-info                  0.23ubuntu1         \n",
      "docutils                     0.16                \n",
      "entrypoints                  0.3                 \n",
      "executing                    1.2.0               \n",
      "flatbuffers                  23.5.26             \n",
      "fonttools                    4.39.4              \n",
      "gast                         0.4.0               \n",
      "google-auth                  2.19.1              \n",
      "google-auth-oauthlib         1.0.0               \n",
      "google-pasta                 0.2.0               \n",
      "grpcio                       1.54.2              \n",
      "h5py                         3.8.0               \n",
      "httplib2                     0.14.0              \n",
      "hyperlink                    19.0.0              \n",
      "idna                         2.8                 \n",
      "importlib-metadata           6.6.0               \n",
      "importlib-resources          5.12.0              \n",
      "incremental                  16.10.1             \n",
      "ipykernel                    6.23.1              \n",
      "ipython                      8.12.2              \n",
      "iso8601                      0.1.12              \n",
      "jax                          0.4.11              \n",
      "jedi                         0.18.2              \n",
      "Jinja2                       2.10.1              \n",
      "joblib                       1.2.0               \n",
      "jsonpatch                    1.22                \n",
      "jsonpointer                  2.0                 \n",
      "jsonschema                   3.2.0               \n",
      "jupyter-client               8.2.0               \n",
      "jupyter-core                 5.3.0               \n",
      "keras                        2.12.0              \n",
      "keyring                      18.0.1              \n",
      "kiwisolver                   1.4.4               \n",
      "language-selector            0.1                 \n",
      "launchpadlib                 1.10.13             \n",
      "lazr.restfulclient           0.14.2              \n",
      "lazr.uri                     1.0.3               \n",
      "libclang                     16.0.0              \n",
      "macaroonbakery               1.3.1               \n",
      "Markdown                     3.4.3               \n",
      "MarkupSafe                   2.1.3               \n",
      "matplotlib                   3.7.1               \n",
      "matplotlib-inline            0.1.6               \n",
      "ml-dtypes                    0.2.0               \n",
      "monotonic                    1.5                 \n",
      "more-itertools               4.2.0               \n",
      "msgpack                      0.6.2               \n",
      "nest-asyncio                 1.5.6               \n",
      "netaddr                      0.7.19              \n",
      "netifaces                    0.10.4              \n",
      "numpy                        1.23.5              \n",
      "oauthlib                     3.1.0               \n",
      "olefile                      0.46                \n",
      "opt-einsum                   3.3.0               \n",
      "oslo.config                  8.0.2               \n",
      "oslo.context                 3.0.2               \n",
      "oslo.i18n                    4.0.1               \n",
      "oslo.log                     4.1.1               \n",
      "oslo.serialization           3.1.1               \n",
      "oslo.utils                   4.1.1               \n",
      "packaging                    23.1                \n",
      "pandas                       2.0.2               \n",
      "parso                        0.8.3               \n",
      "pbr                          5.4.5               \n",
      "pexpect                      4.6.0               \n",
      "pickleshare                  0.7.5               \n",
      "Pillow                       7.0.0               \n",
      "pip                          20.0.2              \n",
      "platformdirs                 3.5.1               \n",
      "prompt-toolkit               3.0.38              \n",
      "protobuf                     4.23.2              \n",
      "psutil                       5.5.1               \n",
      "pure-eval                    0.2.2               \n",
      "pyasn1                       0.4.2               \n",
      "pyasn1-modules               0.2.1               \n",
      "pycairo                      1.16.2              \n",
      "pycups                       1.9.73              \n",
      "Pygments                     2.15.1              \n",
      "PyGObject                    3.36.0              \n",
      "PyHamcrest                   1.9.0               \n",
      "pyinotify                    0.9.6               \n",
      "PyJWT                        1.7.1               \n",
      "pymacaroons                  0.13.0              \n",
      "PyNaCl                       1.3.0               \n",
      "pyOpenSSL                    19.0.0              \n",
      "pyparsing                    2.4.6               \n",
      "pyRFC3339                    1.1                 \n",
      "pyrsistent                   0.15.5              \n",
      "pyserial                     3.4                 \n",
      "python-apt                   2.0.0+ubuntu0.20.4.8\n",
      "python-dateutil              2.8.2               \n",
      "python-debian                0.1.36ubuntu1       \n",
      "python-novnc                 1.0.0               \n",
      "pytz                         2023.3              \n",
      "pyxdg                        0.26                \n",
      "PyYAML                       5.3.1               \n",
      "pyzmq                        25.1.0              \n",
      "requests                     2.22.0              \n",
      "requests-oauthlib            1.3.1               \n",
      "requests-unixsocket          0.2.0               \n",
      "rfc3986                      1.3.2               \n",
      "roman                        2.0.0               \n",
      "rsa                          4.9                 \n",
      "Sastrawi                     1.0.1               \n",
      "scikit-learn                 1.2.2               \n",
      "scipy                        1.10.1              \n",
      "SecretStorage                2.3.1               \n",
      "service-identity             18.1.0              \n",
      "setuptools                   45.2.0              \n",
      "simplejson                   3.16.0              \n",
      "six                          1.14.0              \n",
      "sos                          4.3                 \n",
      "ssh-import-id                5.10                \n",
      "stack-data                   0.6.2               \n",
      "stevedore                    1.32.0              \n",
      "systemd-python               234                 \n",
      "tensorboard                  2.12.3              \n",
      "tensorboard-data-server      0.7.0               \n",
      "tensorflow                   2.12.0              \n",
      "tensorflow-estimator         2.12.0              \n",
      "tensorflow-io-gcs-filesystem 0.32.0              \n",
      "termcolor                    2.3.0               \n",
      "threadpoolctl                3.1.0               \n",
      "tornado                      6.3.2               \n",
      "traitlets                    5.9.0               \n",
      "Twisted                      18.9.0              \n",
      "typing-extensions            4.6.3               \n",
      "tzdata                       2023.3              \n",
      "ubuntu-advantage-tools       27.11.2             \n",
      "ufw                          0.36                \n",
      "unattended-upgrades          0.1                 \n",
      "urllib3                      1.25.8              \n",
      "wadllib                      1.3.3               \n",
      "wcwidth                      0.2.6               \n",
      "websockify                   0.9.0               \n",
      "Werkzeug                     2.3.5               \n",
      "wheel                        0.34.2              \n",
      "word2vec                     0.11.1              \n",
      "wrapt                        1.11.2              \n",
      "zipp                         3.15.0              \n",
      "zope.interface               4.7.1               \n",
      "Note: you may need to restart the kernel to use updated packages.\n"
     ]
    }
   ],
   "source": [
    "pip list"
   ]
  },
  {
   "cell_type": "code",
   "execution_count": 3,
   "metadata": {},
   "outputs": [],
   "source": [
    "import pandas as pd\n",
    "from sklearn.preprocessing import MinMaxScaler"
   ]
  },
  {
   "cell_type": "code",
   "execution_count": 4,
   "metadata": {},
   "outputs": [],
   "source": [
    "df = pd.read_csv('airline-passengers.csv')"
   ]
  },
  {
   "cell_type": "code",
   "execution_count": 5,
   "metadata": {},
   "outputs": [
    {
     "data": {
      "text/html": [
       "<div>\n",
       "<style scoped>\n",
       "    .dataframe tbody tr th:only-of-type {\n",
       "        vertical-align: middle;\n",
       "    }\n",
       "\n",
       "    .dataframe tbody tr th {\n",
       "        vertical-align: top;\n",
       "    }\n",
       "\n",
       "    .dataframe thead th {\n",
       "        text-align: right;\n",
       "    }\n",
       "</style>\n",
       "<table border=\"1\" class=\"dataframe\">\n",
       "  <thead>\n",
       "    <tr style=\"text-align: right;\">\n",
       "      <th></th>\n",
       "      <th>Month</th>\n",
       "      <th>Passengers</th>\n",
       "    </tr>\n",
       "  </thead>\n",
       "  <tbody>\n",
       "    <tr>\n",
       "      <th>0</th>\n",
       "      <td>1949-01</td>\n",
       "      <td>112</td>\n",
       "    </tr>\n",
       "    <tr>\n",
       "      <th>1</th>\n",
       "      <td>1949-02</td>\n",
       "      <td>118</td>\n",
       "    </tr>\n",
       "    <tr>\n",
       "      <th>2</th>\n",
       "      <td>1949-03</td>\n",
       "      <td>132</td>\n",
       "    </tr>\n",
       "    <tr>\n",
       "      <th>3</th>\n",
       "      <td>1949-04</td>\n",
       "      <td>129</td>\n",
       "    </tr>\n",
       "    <tr>\n",
       "      <th>4</th>\n",
       "      <td>1949-05</td>\n",
       "      <td>121</td>\n",
       "    </tr>\n",
       "    <tr>\n",
       "      <th>...</th>\n",
       "      <td>...</td>\n",
       "      <td>...</td>\n",
       "    </tr>\n",
       "    <tr>\n",
       "      <th>139</th>\n",
       "      <td>1960-08</td>\n",
       "      <td>606</td>\n",
       "    </tr>\n",
       "    <tr>\n",
       "      <th>140</th>\n",
       "      <td>1960-09</td>\n",
       "      <td>508</td>\n",
       "    </tr>\n",
       "    <tr>\n",
       "      <th>141</th>\n",
       "      <td>1960-10</td>\n",
       "      <td>461</td>\n",
       "    </tr>\n",
       "    <tr>\n",
       "      <th>142</th>\n",
       "      <td>1960-11</td>\n",
       "      <td>390</td>\n",
       "    </tr>\n",
       "    <tr>\n",
       "      <th>143</th>\n",
       "      <td>1960-12</td>\n",
       "      <td>432</td>\n",
       "    </tr>\n",
       "  </tbody>\n",
       "</table>\n",
       "<p>144 rows × 2 columns</p>\n",
       "</div>"
      ],
      "text/plain": [
       "       Month  Passengers\n",
       "0    1949-01         112\n",
       "1    1949-02         118\n",
       "2    1949-03         132\n",
       "3    1949-04         129\n",
       "4    1949-05         121\n",
       "..       ...         ...\n",
       "139  1960-08         606\n",
       "140  1960-09         508\n",
       "141  1960-10         461\n",
       "142  1960-11         390\n",
       "143  1960-12         432\n",
       "\n",
       "[144 rows x 2 columns]"
      ]
     },
     "execution_count": 5,
     "metadata": {},
     "output_type": "execute_result"
    }
   ],
   "source": [
    "df"
   ]
  },
  {
   "cell_type": "code",
   "execution_count": 6,
   "metadata": {},
   "outputs": [
    {
     "data": {
      "text/plain": [
       "<Axes: xlabel='Month'>"
      ]
     },
     "execution_count": 6,
     "metadata": {},
     "output_type": "execute_result"
    },
    {
     "data": {
      "image/png": "[encoded data removed]",
      "text/plain": [
       "<Figure size 640x480 with 1 Axes>"
      ]
     },
     "metadata": {},
     "output_type": "display_data"
    }
   ],
   "source": [
    "df.plot(x=\"Month\", y=\"Passengers\")"
   ]
  },
  {
   "cell_type": "code",
   "execution_count": 7,
   "metadata": {},
   "outputs": [
    {
     "data": {
      "text/plain": [
       "(144, 2)"
      ]
     },
     "execution_count": 7,
     "metadata": {},
     "output_type": "execute_result"
    }
   ],
   "source": [
    "df.shape"
   ]
  },
  {
   "cell_type": "code",
   "execution_count": 8,
   "metadata": {},
   "outputs": [],
   "source": [
    "training_set=df.iloc[:120,1:2]\n",
    "test_set=df.iloc[120:,1:2]"
   ]
  },
  {
   "cell_type": "code",
   "execution_count": 9,
   "metadata": {},
   "outputs": [
    {
     "data": {
      "text/html": [
       "<div>\n",
       "<style scoped>\n",
       "    .dataframe tbody tr th:only-of-type {\n",
       "        vertical-align: middle;\n",
       "    }\n",
       "\n",
       "    .dataframe tbody tr th {\n",
       "        vertical-align: top;\n",
       "    }\n",
       "\n",
       "    .dataframe thead th {\n",
       "        text-align: right;\n",
       "    }\n",
       "</style>\n",
       "<table border=\"1\" class=\"dataframe\">\n",
       "  <thead>\n",
       "    <tr style=\"text-align: right;\">\n",
       "      <th></th>\n",
       "      <th>Passengers</th>\n",
       "    </tr>\n",
       "  </thead>\n",
       "  <tbody>\n",
       "    <tr>\n",
       "      <th>0</th>\n",
       "      <td>112</td>\n",
       "    </tr>\n",
       "    <tr>\n",
       "      <th>1</th>\n",
       "      <td>118</td>\n",
       "    </tr>\n",
       "    <tr>\n",
       "      <th>2</th>\n",
       "      <td>132</td>\n",
       "    </tr>\n",
       "    <tr>\n",
       "      <th>3</th>\n",
       "      <td>129</td>\n",
       "    </tr>\n",
       "    <tr>\n",
       "      <th>4</th>\n",
       "      <td>121</td>\n",
       "    </tr>\n",
       "    <tr>\n",
       "      <th>...</th>\n",
       "      <td>...</td>\n",
       "    </tr>\n",
       "    <tr>\n",
       "      <th>115</th>\n",
       "      <td>505</td>\n",
       "    </tr>\n",
       "    <tr>\n",
       "      <th>116</th>\n",
       "      <td>404</td>\n",
       "    </tr>\n",
       "    <tr>\n",
       "      <th>117</th>\n",
       "      <td>359</td>\n",
       "    </tr>\n",
       "    <tr>\n",
       "      <th>118</th>\n",
       "      <td>310</td>\n",
       "    </tr>\n",
       "    <tr>\n",
       "      <th>119</th>\n",
       "      <td>337</td>\n",
       "    </tr>\n",
       "  </tbody>\n",
       "</table>\n",
       "<p>120 rows × 1 columns</p>\n",
       "</div>"
      ],
      "text/plain": [
       "     Passengers\n",
       "0           112\n",
       "1           118\n",
       "2           132\n",
       "3           129\n",
       "4           121\n",
       "..          ...\n",
       "115         505\n",
       "116         404\n",
       "117         359\n",
       "118         310\n",
       "119         337\n",
       "\n",
       "[120 rows x 1 columns]"
      ]
     },
     "execution_count": 9,
     "metadata": {},
     "output_type": "execute_result"
    }
   ],
   "source": [
    "training_set"
   ]
  },
  {
   "cell_type": "code",
   "execution_count": 10,
   "metadata": {},
   "outputs": [
    {
     "ename": "TypeError",
     "evalue": "wrapped() missing 1 required positional argument: 'X'",
     "output_type": "error",
     "traceback": [
      "\u001b[0;31m---------------------------------------------------------------------------\u001b[0m",
      "\u001b[0;31mTypeError\u001b[0m                                 Traceback (most recent call last)",
      "Cell \u001b[0;32mIn[10], line 2\u001b[0m\n\u001b[1;32m      1\u001b[0m sc \u001b[38;5;241m=\u001b[39m MinMaxScaler(feature_range \u001b[38;5;241m=\u001b[39m (\u001b[38;5;241m0\u001b[39m,\u001b[38;5;241m1\u001b[39m))\n\u001b[0;32m----> 2\u001b[0m training_set_scaled \u001b[38;5;241m=\u001b[39m \u001b[43msc\u001b[49m\u001b[38;5;241;43m.\u001b[39;49m\u001b[43mfit_transform\u001b[49m\u001b[43m(\u001b[49m\u001b[43m)\u001b[49m\n",
      "\u001b[0;31mTypeError\u001b[0m: wrapped() missing 1 required positional argument: 'X'"
     ]
    }
   ],
   "source": [
    "sc = MinMaxScaler(feature_range = (0,1))\n",
    "training_set_scaled = sc.fit_transform()"
   ]
  },
  {
   "cell_type": "code",
   "execution_count": null,
   "metadata": {},
   "outputs": [],
   "source": [
    "from numpy import array\n",
    "\n",
    "# split a univariate sequence into samples\n",
    "def split_sequence(sequence, n_steps):\n",
    "\tX, y = list(), list()\n",
    "\tfor i in range(len(sequence)):\n",
    "\t\t# find the end of this pattern\n",
    "\t\tend_ix = i + n_steps\n",
    "\t\t# check if we are beyond the sequence\n",
    "\t\tif end_ix > len(sequence)-1:\n",
    "\t\t\tbreak\n",
    "\t\t# gather input and output parts of the pattern\n",
    "\t\tseq_x, seq_y = sequence[i:end_ix], sequence[end_ix]\n",
    "\t\tX.append(seq_x)\n",
    "\t\ty.append(seq_y)\n",
    "\treturn array(X), array(y)"
   ]
  },
  {
   "cell_type": "code",
   "execution_count": null,
   "metadata": {},
   "outputs": [
    {
     "name": "stderr",
     "output_type": "stream",
     "text": [
      "2023-06-08 01:08:27.436559: I tensorflow/tsl/cuda/cudart_stub.cc:28] Could not find cuda drivers on your machine, GPU will not be used.\n",
      "2023-06-08 01:08:27.474146: I tensorflow/tsl/cuda/cudart_stub.cc:28] Could not find cuda drivers on your machine, GPU will not be used.\n",
      "2023-06-08 01:08:27.474931: I tensorflow/core/platform/cpu_feature_guard.cc:182] This TensorFlow binary is optimized to use available CPU instructions in performance-critical operations.\n",
      "To enable the following instructions: AVX2 FMA, in other operations, rebuild TensorFlow with the appropriate compiler flags.\n",
      "2023-06-08 01:08:28.119868: W tensorflow/compiler/tf2tensorrt/utils/py_utils.cc:38] TF-TRT Warning: Could not find TensorRT\n"
     ]
    }
   ],
   "source": [
    "import math\n",
    "import matplotlib.pyplot as plt\n",
    "import keras\n",
    "import pandas as pd\n",
    "import numpy as np\n",
    "from keras.models import Sequential\n",
    "from keras.layers import Dense\n",
    "from keras.layers import LSTM\n",
    "from keras.layers import Dropout\n",
    "from keras.layers import *\n",
    "from sklearn.preprocessing import MinMaxScaler\n",
    "from sklearn.metrics import mean_squared_error\n",
    "from sklearn.metrics import mean_absolute_error\n",
    "from sklearn.model_selection import train_test_split\n",
    "from keras.callbacks import EarlyStopping"
   ]
  },
  {
   "cell_type": "code",
   "execution_count": null,
   "metadata": {},
   "outputs": [],
   "source": [
    "training_set = df.iloc[:120, 1:2].values\n",
    "test_set = df.iloc[120:, 1:2].values"
   ]
  },
  {
   "cell_type": "code",
   "execution_count": null,
   "metadata": {},
   "outputs": [],
   "source": [
    "# Feature Scaling\n",
    "sc = MinMaxScaler(feature_range = (0, 1))\n",
    "training_set_scaled = sc.fit_transform(training_set)\n",
    "# Creating a data structure with 60 time-steps and 1 output\n",
    "X_train = []\n",
    "y_train = []\n",
    "x = 5\n",
    "for i in range(x, 120):\n",
    "    X_train.append(training_set_scaled[i-x:i, 0])\n",
    "    y_train.append(training_set_scaled[i, 0])\n",
    "X_train, y_train = np.array(X_train), np.array(y_train)\n",
    "X_train = np.reshape(X_train, (X_train.shape[0], X_train.shape[1], 1))\n",
    "#(740, 60, 1)"
   ]
  },
  {
   "cell_type": "code",
   "execution_count": null,
   "metadata": {},
   "outputs": [],
   "source": [
    "xtrainbaru = np.reshape(X_train, (115, 5))"
   ]
  },
  {
   "cell_type": "code",
   "execution_count": null,
   "metadata": {},
   "outputs": [],
   "source": [
    "df = pd.DataFrame(xtrainbaru,columns=[1,2,3,4,\"target\"])"
   ]
  },
  {
   "cell_type": "code",
   "execution_count": null,
   "metadata": {},
   "outputs": [
    {
     "data": {
      "text/html": [
       "<div>\n",
       "<style scoped>\n",
       "    .dataframe tbody tr th:only-of-type {\n",
       "        vertical-align: middle;\n",
       "    }\n",
       "\n",
       "    .dataframe tbody tr th {\n",
       "        vertical-align: top;\n",
       "    }\n",
       "\n",
       "    .dataframe thead th {\n",
       "        text-align: right;\n",
       "    }\n",
       "</style>\n",
       "<table border=\"1\" class=\"dataframe\">\n",
       "  <thead>\n",
       "    <tr style=\"text-align: right;\">\n",
       "      <th></th>\n",
       "      <th>1</th>\n",
       "      <th>2</th>\n",
       "      <th>3</th>\n",
       "      <th>4</th>\n",
       "      <th>target</th>\n",
       "    </tr>\n",
       "  </thead>\n",
       "  <tbody>\n",
       "    <tr>\n",
       "      <th>0</th>\n",
       "      <td>0.019950</td>\n",
       "      <td>0.034913</td>\n",
       "      <td>0.069825</td>\n",
       "      <td>0.062344</td>\n",
       "      <td>0.042394</td>\n",
       "    </tr>\n",
       "    <tr>\n",
       "      <th>1</th>\n",
       "      <td>0.034913</td>\n",
       "      <td>0.069825</td>\n",
       "      <td>0.062344</td>\n",
       "      <td>0.042394</td>\n",
       "      <td>0.077307</td>\n",
       "    </tr>\n",
       "    <tr>\n",
       "      <th>2</th>\n",
       "      <td>0.069825</td>\n",
       "      <td>0.062344</td>\n",
       "      <td>0.042394</td>\n",
       "      <td>0.077307</td>\n",
       "      <td>0.109726</td>\n",
       "    </tr>\n",
       "    <tr>\n",
       "      <th>3</th>\n",
       "      <td>0.062344</td>\n",
       "      <td>0.042394</td>\n",
       "      <td>0.077307</td>\n",
       "      <td>0.109726</td>\n",
       "      <td>0.109726</td>\n",
       "    </tr>\n",
       "    <tr>\n",
       "      <th>4</th>\n",
       "      <td>0.042394</td>\n",
       "      <td>0.077307</td>\n",
       "      <td>0.109726</td>\n",
       "      <td>0.109726</td>\n",
       "      <td>0.079800</td>\n",
       "    </tr>\n",
       "    <tr>\n",
       "      <th>...</th>\n",
       "      <td>...</td>\n",
       "      <td>...</td>\n",
       "      <td>...</td>\n",
       "      <td>...</td>\n",
       "      <td>...</td>\n",
       "    </tr>\n",
       "    <tr>\n",
       "      <th>110</th>\n",
       "      <td>0.643392</td>\n",
       "      <td>0.608479</td>\n",
       "      <td>0.645885</td>\n",
       "      <td>0.825436</td>\n",
       "      <td>0.965087</td>\n",
       "    </tr>\n",
       "    <tr>\n",
       "      <th>111</th>\n",
       "      <td>0.608479</td>\n",
       "      <td>0.645885</td>\n",
       "      <td>0.825436</td>\n",
       "      <td>0.965087</td>\n",
       "      <td>1.000000</td>\n",
       "    </tr>\n",
       "    <tr>\n",
       "      <th>112</th>\n",
       "      <td>0.645885</td>\n",
       "      <td>0.825436</td>\n",
       "      <td>0.965087</td>\n",
       "      <td>1.000000</td>\n",
       "      <td>0.748130</td>\n",
       "    </tr>\n",
       "    <tr>\n",
       "      <th>113</th>\n",
       "      <td>0.825436</td>\n",
       "      <td>0.965087</td>\n",
       "      <td>1.000000</td>\n",
       "      <td>0.748130</td>\n",
       "      <td>0.635910</td>\n",
       "    </tr>\n",
       "    <tr>\n",
       "      <th>114</th>\n",
       "      <td>0.965087</td>\n",
       "      <td>1.000000</td>\n",
       "      <td>0.748130</td>\n",
       "      <td>0.635910</td>\n",
       "      <td>0.513716</td>\n",
       "    </tr>\n",
       "  </tbody>\n",
       "</table>\n",
       "<p>115 rows × 5 columns</p>\n",
       "</div>"
      ],
      "text/plain": [
       "            1         2         3         4    target\n",
       "0    0.019950  0.034913  0.069825  0.062344  0.042394\n",
       "1    0.034913  0.069825  0.062344  0.042394  0.077307\n",
       "2    0.069825  0.062344  0.042394  0.077307  0.109726\n",
       "3    0.062344  0.042394  0.077307  0.109726  0.109726\n",
       "4    0.042394  0.077307  0.109726  0.109726  0.079800\n",
       "..        ...       ...       ...       ...       ...\n",
       "110  0.643392  0.608479  0.645885  0.825436  0.965087\n",
       "111  0.608479  0.645885  0.825436  0.965087  1.000000\n",
       "112  0.645885  0.825436  0.965087  1.000000  0.748130\n",
       "113  0.825436  0.965087  1.000000  0.748130  0.635910\n",
       "114  0.965087  1.000000  0.748130  0.635910  0.513716\n",
       "\n",
       "[115 rows x 5 columns]"
      ]
     },
     "execution_count": 36,
     "metadata": {},
     "output_type": "execute_result"
    }
   ],
   "source": [
    "df"
   ]
  },
  {
   "cell_type": "code",
   "execution_count": null,
   "metadata": {},
   "outputs": [],
   "source": [
    "from sklearn.neighbors import KNeighborsRegressor\n",
    "neigh = KNeighborsRegressor(n_neighbors=3)\n",
    "modelknn=neigh.fit(xtrainbaru, y_train)"
   ]
  },
  {
   "cell_type": "code",
   "execution_count": null,
   "metadata": {},
   "outputs": [
    {
     "data": {
      "text/html": [
       "<div>\n",
       "<style scoped>\n",
       "    .dataframe tbody tr th:only-of-type {\n",
       "        vertical-align: middle;\n",
       "    }\n",
       "\n",
       "    .dataframe tbody tr th {\n",
       "        vertical-align: top;\n",
       "    }\n",
       "\n",
       "    .dataframe thead th {\n",
       "        text-align: right;\n",
       "    }\n",
       "</style>\n",
       "<table border=\"1\" class=\"dataframe\">\n",
       "  <thead>\n",
       "    <tr style=\"text-align: right;\">\n",
       "      <th></th>\n",
       "      <th>Passengers</th>\n",
       "    </tr>\n",
       "  </thead>\n",
       "  <tbody>\n",
       "    <tr>\n",
       "      <th>0</th>\n",
       "      <td>112</td>\n",
       "    </tr>\n",
       "    <tr>\n",
       "      <th>1</th>\n",
       "      <td>118</td>\n",
       "    </tr>\n",
       "    <tr>\n",
       "      <th>2</th>\n",
       "      <td>132</td>\n",
       "    </tr>\n",
       "    <tr>\n",
       "      <th>3</th>\n",
       "      <td>129</td>\n",
       "    </tr>\n",
       "    <tr>\n",
       "      <th>4</th>\n",
       "      <td>121</td>\n",
       "    </tr>\n",
       "    <tr>\n",
       "      <th>...</th>\n",
       "      <td>...</td>\n",
       "    </tr>\n",
       "    <tr>\n",
       "      <th>115</th>\n",
       "      <td>505</td>\n",
       "    </tr>\n",
       "    <tr>\n",
       "      <th>116</th>\n",
       "      <td>404</td>\n",
       "    </tr>\n",
       "    <tr>\n",
       "      <th>117</th>\n",
       "      <td>359</td>\n",
       "    </tr>\n",
       "    <tr>\n",
       "      <th>118</th>\n",
       "      <td>310</td>\n",
       "    </tr>\n",
       "    <tr>\n",
       "      <th>119</th>\n",
       "      <td>337</td>\n",
       "    </tr>\n",
       "  </tbody>\n",
       "</table>\n",
       "<p>120 rows × 1 columns</p>\n",
       "</div>"
      ],
      "text/plain": [
       "     Passengers\n",
       "0           112\n",
       "1           118\n",
       "2           132\n",
       "3           129\n",
       "4           121\n",
       "..          ...\n",
       "115         505\n",
       "116         404\n",
       "117         359\n",
       "118         310\n",
       "119         337\n",
       "\n",
       "[120 rows x 1 columns]"
      ]
     },
     "execution_count": 44,
     "metadata": {},
     "output_type": "execute_result"
    }
   ],
   "source": [
    "training_set"
   ]
  },
  {
   "cell_type": "code",
   "execution_count": 12,
   "metadata": {},
   "outputs": [],
   "source": [
    "dataset_test = df.iloc[120:, 1:2]\n",
    "dataset_total = pd.concat((training_set, dataset_test), axis = 0)\n",
    "inputs = dataset_total[len(dataset_total) - len(test_set) - 5:].values"
   ]
  },
  {
   "cell_type": "code",
   "execution_count": 11,
   "metadata": {},
   "outputs": [
    {
     "ename": "NameError",
     "evalue": "name 'dataset_total' is not defined",
     "output_type": "error",
     "traceback": [
      "\u001b[0;31m---------------------------------------------------------------------------\u001b[0m",
      "\u001b[0;31mNameError\u001b[0m                                 Traceback (most recent call last)",
      "Cell \u001b[0;32mIn[11], line 1\u001b[0m\n\u001b[0;32m----> 1\u001b[0m \u001b[43mdataset_total\u001b[49m\n",
      "\u001b[0;31mNameError\u001b[0m: name 'dataset_total' is not defined"
     ]
    }
   ],
   "source": [
    "dataset_total"
   ]
  },
  {
   "cell_type": "code",
   "execution_count": null,
   "metadata": {},
   "outputs": [],
   "source": [
    "inputs = inputs.reshape(-1,1)"
   ]
  },
  {
   "cell_type": "code",
   "execution_count": null,
   "metadata": {},
   "outputs": [
    {
     "data": {
      "text/plain": [
       "array([[505],\n",
       "       [404],\n",
       "       [359],\n",
       "       [310],\n",
       "       [337],\n",
       "       [360],\n",
       "       [342],\n",
       "       [406],\n",
       "       [396],\n",
       "       [420],\n",
       "       [472],\n",
       "       [548],\n",
       "       [559],\n",
       "       [463],\n",
       "       [407],\n",
       "       [362],\n",
       "       [405],\n",
       "       [417],\n",
       "       [391],\n",
       "       [419],\n",
       "       [461],\n",
       "       [472],\n",
       "       [535],\n",
       "       [622],\n",
       "       [606],\n",
       "       [508],\n",
       "       [461],\n",
       "       [390],\n",
       "       [432]])"
      ]
     },
     "execution_count": 47,
     "metadata": {},
     "output_type": "execute_result"
    }
   ],
   "source": [
    "inputs"
   ]
  },
  {
   "cell_type": "code",
   "execution_count": null,
   "metadata": {},
   "outputs": [
    {
     "name": "stdout",
     "output_type": "stream",
     "text": [
      "(19, 5, 1)\n"
     ]
    }
   ],
   "source": [
    "inputs =sc.fit_transform(inputs)\n",
    "X_test = []\n",
    "for i in range(5, 24):\n",
    "    X_test.append(inputs[i-5:i, 0])\n",
    "X_test = np.array(X_test)\n",
    "X_test = np.reshape(X_test, (X_test.shape[0], X_test.shape[1], 1))\n",
    "print(X_test.shape)\n"
   ]
  },
  {
   "cell_type": "code",
   "execution_count": null,
   "metadata": {},
   "outputs": [
    {
     "data": {
      "text/plain": [
       "array([[0.625     , 0.30128205, 0.15705128, 0.        , 0.08653846],\n",
       "       [0.30128205, 0.15705128, 0.        , 0.08653846, 0.16025641],\n",
       "       [0.15705128, 0.        , 0.08653846, 0.16025641, 0.1025641 ],\n",
       "       [0.        , 0.08653846, 0.16025641, 0.1025641 , 0.30769231],\n",
       "       [0.08653846, 0.16025641, 0.1025641 , 0.30769231, 0.27564103],\n",
       "       [0.16025641, 0.1025641 , 0.30769231, 0.27564103, 0.3525641 ],\n",
       "       [0.1025641 , 0.30769231, 0.27564103, 0.3525641 , 0.51923077],\n",
       "       [0.30769231, 0.27564103, 0.3525641 , 0.51923077, 0.76282051],\n",
       "       [0.27564103, 0.3525641 , 0.51923077, 0.76282051, 0.79807692],\n",
       "       [0.3525641 , 0.51923077, 0.76282051, 0.79807692, 0.49038462],\n",
       "       [0.51923077, 0.76282051, 0.79807692, 0.49038462, 0.31089744],\n",
       "       [0.76282051, 0.79807692, 0.49038462, 0.31089744, 0.16666667],\n",
       "       [0.79807692, 0.49038462, 0.31089744, 0.16666667, 0.30448718],\n",
       "       [0.49038462, 0.31089744, 0.16666667, 0.30448718, 0.34294872],\n",
       "       [0.31089744, 0.16666667, 0.30448718, 0.34294872, 0.25961538],\n",
       "       [0.16666667, 0.30448718, 0.34294872, 0.25961538, 0.34935897],\n",
       "       [0.30448718, 0.34294872, 0.25961538, 0.34935897, 0.48397436],\n",
       "       [0.34294872, 0.25961538, 0.34935897, 0.48397436, 0.51923077],\n",
       "       [0.25961538, 0.34935897, 0.48397436, 0.51923077, 0.72115385]])"
      ]
     },
     "execution_count": 50,
     "metadata": {},
     "output_type": "execute_result"
    }
   ],
   "source": [
    "xtestbaru = np.reshape(X_test, (19, 5))\n",
    "xtestbaru"
   ]
  },
  {
   "cell_type": "code",
   "execution_count": null,
   "metadata": {},
   "outputs": [],
   "source": [
    "predicted_pakan = modelknn.predict(xtestbaru)\n",
    "\n",
    "predicted_pakan = predicted_pakan.reshape(-1,1)\n",
    "prediksi= sc.inverse_transform(predicted_pakan)\n",
    "dataset_test=dataset_test.iloc[0:19]"
   ]
  },
  {
   "cell_type": "code",
   "execution_count": null,
   "metadata": {},
   "outputs": [
    {
     "data": {
      "text/plain": [
       "0.11118374771317968"
      ]
     },
     "execution_count": 52,
     "metadata": {},
     "output_type": "execute_result"
    }
   ],
   "source": [
    "from sklearn.metrics import mean_absolute_percentage_error\n",
    "\n",
    "mean_absolute_percentage_error(dataset_test, prediksi)"
   ]
  },
  {
   "cell_type": "code",
   "execution_count": null,
   "metadata": {},
   "outputs": [],
   "source": [
    "dataset_test=dataset_test.to_numpy()"
   ]
  },
  {
   "cell_type": "code",
   "execution_count": null,
   "metadata": {},
   "outputs": [
    {
     "data": {
      "image/png": "[encoded data removed]",
      "text/plain": [
       "<Figure size 640x480 with 1 Axes>"
      ]
     },
     "metadata": {},
     "output_type": "display_data"
    }
   ],
   "source": [
    "import matplotlib.pyplot as plt\n",
    "plt.plot(dataset_test,label = 'Penumpang real')\n",
    "plt.plot(prediksi,label = 'penumpang predict')\n",
    "plt.xticks(np.arange(0,19,1))\n",
    "plt.title('Prediksi penumpang')\n",
    "plt.xlabel('Time')\n",
    "plt.ylabel('Jumlah penumpang')\n",
    "plt.legend()\n",
    "plt.show()\n",
    "\n",
    "plt.show()"
   ]
  },
  {
   "cell_type": "code",
   "execution_count": null,
   "metadata": {},
   "outputs": [],
   "source": []
  }
 ],
 "metadata": {
  "language_info": {
   "name": "python"
  },
  "orig_nbformat": 4
 },
 "nbformat": 4,
 "nbformat_minor": 2
}
